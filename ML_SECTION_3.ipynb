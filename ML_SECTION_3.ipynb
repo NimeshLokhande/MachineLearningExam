{
  "nbformat": 4,
  "nbformat_minor": 0,
  "metadata": {
    "colab": {
      "provenance": []
    },
    "kernelspec": {
      "name": "python3",
      "display_name": "Python 3"
    },
    "language_info": {
      "name": "python"
    }
  },
  "cells": [
    {
      "cell_type": "markdown",
      "source": [
        "# **Section 3: Geographical Analysis of Demand and Supply**\n",
        "Problem Statement: Analyze the geographical distribution of vehicle advertisements to understand demand and supply patterns."
      ],
      "metadata": {
        "id": "R3Ubyi-LqB5x"
      }
    },
    {
      "cell_type": "markdown",
      "source": [
        "Step 1: Data Cleaning & Preprocessing\n",
        "\n",
        "    Handle Missing Values: Fill in or remove missing data appropriately.\n",
        "    Encode Categorical Variables: Convert categorical data into numerical form.\n",
        "    Normalize/Standardize Numerical Features: Adjust numerical data to a common scale if needed."
      ],
      "metadata": {
        "id": "UdgW7IL0p1jO"
      }
    },
    {
      "cell_type": "code",
      "source": [
        "import pandas as pd\n",
        "import numpy as np\n",
        "import matplotlib.pyplot as plt\n",
        "import seaborn as sns\n",
        "import warnings\n",
        "warnings.filterwarnings('ignore')\n",
        "from sklearn.impute import SimpleImputer\n",
        "from sklearn.impute import KNNImputer\n",
        "from sklearn.preprocessing import LabelEncoder\n",
        "import ast"
      ],
      "metadata": {
        "id": "_cASsriHqIFD"
      },
      "execution_count": null,
      "outputs": []
    },
    {
      "cell_type": "code",
      "source": [
        "from google.colab import drive\n",
        "drive.mount('/content/drive')"
      ],
      "metadata": {
        "colab": {
          "base_uri": "https://localhost:8080/"
        },
        "id": "1x-_r7L6qMdD",
        "outputId": "408fe997-4248-4a7d-a759-c2f0a819cb8f"
      },
      "execution_count": null,
      "outputs": [
        {
          "output_type": "stream",
          "name": "stdout",
          "text": [
            "Drive already mounted at /content/drive; to attempt to forcibly remount, call drive.mount(\"/content/drive\", force_remount=True).\n"
          ]
        }
      ]
    },
    {
      "cell_type": "code",
      "source": [
        "df = pd.read_csv(r'/content/drive/MyDrive/EXAMML/vehicles.csv')"
      ],
      "metadata": {
        "id": "Gf-xgZEqqICT"
      },
      "execution_count": null,
      "outputs": []
    },
    {
      "cell_type": "code",
      "source": [
        "df3 = df.copy()"
      ],
      "metadata": {
        "id": "afQrRahPqIA5"
      },
      "execution_count": null,
      "outputs": []
    },
    {
      "cell_type": "code",
      "source": [
        "df3.shape"
      ],
      "metadata": {
        "colab": {
          "base_uri": "https://localhost:8080/"
        },
        "id": "UqjOidGrqH_n",
        "outputId": "4618027b-8f6e-47c4-dba0-dcb8261fc7fe"
      },
      "execution_count": null,
      "outputs": [
        {
          "output_type": "execute_result",
          "data": {
            "text/plain": [
              "(258888, 26)"
            ]
          },
          "metadata": {},
          "execution_count": 35
        }
      ]
    },
    {
      "cell_type": "code",
      "source": [
        "pd.pandas.set_option(\"display.max_columns\",None)\n",
        "pd.pandas.set_option(\"display.max_rows\",None)"
      ],
      "metadata": {
        "id": "ZpBHsgMWyCWH"
      },
      "execution_count": null,
      "outputs": []
    },
    {
      "cell_type": "markdown",
      "source": [
        "# **NULL VALUES PERCENTAGE**"
      ],
      "metadata": {
        "id": "zuWrlU6wt7ho"
      }
    },
    {
      "cell_type": "code",
      "source": [
        "df3.isnull().sum()/len(df3)*100"
      ],
      "metadata": {
        "colab": {
          "base_uri": "https://localhost:8080/"
        },
        "id": "bHq157aft6T_",
        "outputId": "deec4aa7-4c0a-4c76-c0eb-14a29f259f29"
      },
      "execution_count": null,
      "outputs": [
        {
          "output_type": "execute_result",
          "data": {
            "text/plain": [
              "ad_title                 0.000000\n",
              "ad_description           0.002704\n",
              "details                 39.933485\n",
              "slug                     0.000000\n",
              "title                    0.000000\n",
              "type                     0.000000\n",
              "price                    1.472065\n",
              "timestamp                0.002318\n",
              "posted_date              0.002318\n",
              "deactivation_date        0.002318\n",
              "category                 0.000000\n",
              "parent_category          0.000000\n",
              "location                 0.000000\n",
              "geo_region               0.000000\n",
              "area                     0.000000\n",
              "is_delivery_free         0.000000\n",
              "is_doorstep_delivery     0.000000\n",
              "is_dsd_applicable        0.000000\n",
              "is_member                3.495720\n",
              "is_authorized_dealer     3.495720\n",
              "is_featured_member       3.495720\n",
              "is_verified              0.000000\n",
              "membership_level         0.000000\n",
              "member_since            58.038225\n",
              "properties               0.000000\n",
              "user                     0.000000\n",
              "dtype: float64"
            ]
          },
          "metadata": {},
          "execution_count": 37
        }
      ]
    },
    {
      "cell_type": "markdown",
      "source": [
        "# **DROPPING COLUMNS**"
      ],
      "metadata": {
        "id": "0s7yMG-WshfT"
      }
    },
    {
      "cell_type": "code",
      "source": [
        "df3.drop(columns = 'details', inplace= True)\n",
        "df3.drop(columns = 'parent_category', inplace= True)\n",
        "df3.drop(columns = 'member_since', inplace= True)\n",
        "df3.drop(columns = 'ad_title', inplace= True)\n",
        "df3.drop(columns = 'ad_description', inplace= True)\n",
        "df3.drop(columns = 'type', inplace= True)"
      ],
      "metadata": {
        "id": "SnhP5Y6TqH6q"
      },
      "execution_count": null,
      "outputs": []
    },
    {
      "cell_type": "code",
      "source": [
        "# details column contains distance travelled by the vehicle and aslo year. it might inceaese the complexicity .drop it\n",
        "# parent category contains only type 'vehicle'\n",
        "# ad-title and ad-description contains unwanted and unreadable data\n",
        "# member-since contains null values more tyan 50 %\n",
        "# type contains only 'vehicle'"
      ],
      "metadata": {
        "id": "j35NDqXWt11h"
      },
      "execution_count": null,
      "outputs": []
    },
    {
      "cell_type": "markdown",
      "source": [
        "Column: Price\n",
        "\n",
        "    Convert the data type from 'object' to 'float'.\n",
        "    Remove rows with null values."
      ],
      "metadata": {
        "id": "GbC4BpCetQpr"
      }
    },
    {
      "cell_type": "code",
      "source": [
        "df3['price'] = df3['price'].str.replace('Rs', '', regex=False).str.replace(',', '', regex=False)\n",
        "df3['price'] = df3['price'].apply(lambda x: np.nan if x == 'Negotiable' else float(x))"
      ],
      "metadata": {
        "id": "DnWB7i66qH3c"
      },
      "execution_count": null,
      "outputs": []
    },
    {
      "cell_type": "code",
      "source": [
        "df3 = df3.dropna(subset = 'price')"
      ],
      "metadata": {
        "id": "Y-Vln2dCqH1z"
      },
      "execution_count": null,
      "outputs": []
    },
    {
      "cell_type": "code",
      "source": [
        "df3.isnull().sum()/len(df3)*100"
      ],
      "metadata": {
        "colab": {
          "base_uri": "https://localhost:8080/"
        },
        "id": "07J717zGqH0Y",
        "outputId": "da1a38fa-2862-4418-9483-65ca980d9f8e"
      },
      "execution_count": null,
      "outputs": [
        {
          "output_type": "execute_result",
          "data": {
            "text/plain": [
              "slug                    0.000000\n",
              "title                   0.000000\n",
              "price                   0.000000\n",
              "timestamp               0.002368\n",
              "posted_date             0.002368\n",
              "deactivation_date       0.002368\n",
              "category                0.000000\n",
              "location                0.000000\n",
              "geo_region              0.000000\n",
              "area                    0.000000\n",
              "is_delivery_free        0.000000\n",
              "is_doorstep_delivery    0.000000\n",
              "is_dsd_applicable       0.000000\n",
              "is_member               3.546905\n",
              "is_authorized_dealer    3.546905\n",
              "is_featured_member      3.546905\n",
              "is_verified             0.000000\n",
              "membership_level        0.000000\n",
              "properties              0.000000\n",
              "user                    0.000000\n",
              "dtype: float64"
            ]
          },
          "metadata": {},
          "execution_count": 42
        }
      ]
    },
    {
      "cell_type": "markdown",
      "source": [
        "Column: Category\n",
        "\n",
        "Remove unnecessary categories."
      ],
      "metadata": {
        "id": "nzSdNBwSvuSw"
      }
    },
    {
      "cell_type": "code",
      "source": [
        "list1 = ['Auto Parts & Accessories','Auto Services','Rentals', 'Tractors','Heavy Duty','Buses','Boats & Water Transport']\n",
        "\n",
        "for i in list1:\n",
        "  df3 = df3[df3['category'] != i]\n",
        "df3.shape"
      ],
      "metadata": {
        "colab": {
          "base_uri": "https://localhost:8080/"
        },
        "id": "2hdsB5P1qHyp",
        "outputId": "e6883932-1c6d-4d54-a71e-2454bf19843f"
      },
      "execution_count": null,
      "outputs": [
        {
          "output_type": "execute_result",
          "data": {
            "text/plain": [
              "(166065, 20)"
            ]
          },
          "metadata": {},
          "execution_count": 43
        }
      ]
    },
    {
      "cell_type": "code",
      "source": [
        "df3.isnull().sum()/len(df3)*100"
      ],
      "metadata": {
        "colab": {
          "base_uri": "https://localhost:8080/"
        },
        "id": "kZcDVWK7qHxB",
        "outputId": "8d54572b-9c47-4e8f-dc15-fd4f4368b294"
      },
      "execution_count": null,
      "outputs": [
        {
          "output_type": "execute_result",
          "data": {
            "text/plain": [
              "slug                    0.000000\n",
              "title                   0.000000\n",
              "price                   0.000000\n",
              "timestamp               0.003011\n",
              "posted_date             0.003011\n",
              "deactivation_date       0.003011\n",
              "category                0.000000\n",
              "location                0.000000\n",
              "geo_region              0.000000\n",
              "area                    0.000000\n",
              "is_delivery_free        0.000000\n",
              "is_doorstep_delivery    0.000000\n",
              "is_dsd_applicable       0.000000\n",
              "is_member               4.725258\n",
              "is_authorized_dealer    4.725258\n",
              "is_featured_member      4.725258\n",
              "is_verified             0.000000\n",
              "membership_level        0.000000\n",
              "properties              0.000000\n",
              "user                    0.000000\n",
              "dtype: float64"
            ]
          },
          "metadata": {},
          "execution_count": 44
        }
      ]
    },
    {
      "cell_type": "markdown",
      "source": [
        "# **HNADLE NULL VALUES**\n",
        "1. drop null values"
      ],
      "metadata": {
        "id": "jPyAS6Zbxx89"
      }
    },
    {
      "cell_type": "code",
      "source": [
        "df3=df3.dropna()"
      ],
      "metadata": {
        "id": "S9S-hPIMqHuI"
      },
      "execution_count": null,
      "outputs": []
    },
    {
      "cell_type": "code",
      "source": [
        "df3.shape"
      ],
      "metadata": {
        "colab": {
          "base_uri": "https://localhost:8080/"
        },
        "id": "G50zeBOFqHsN",
        "outputId": "9bd2898b-eb6f-4081-995f-3c362b1e4dd2"
      },
      "execution_count": null,
      "outputs": [
        {
          "output_type": "execute_result",
          "data": {
            "text/plain": [
              "(158214, 20)"
            ]
          },
          "metadata": {},
          "execution_count": 46
        }
      ]
    },
    {
      "cell_type": "markdown",
      "source": [
        "# **SELECT FEATURES**"
      ],
      "metadata": {
        "id": "-18FksTLyKte"
      }
    },
    {
      "cell_type": "code",
      "source": [
        "df31 = df3[[\"location\", \"geo_region\", \"area\",]]"
      ],
      "metadata": {
        "id": "_SF13hiDyFIZ"
      },
      "execution_count": null,
      "outputs": []
    },
    {
      "cell_type": "code",
      "source": [
        "df31.head()"
      ],
      "metadata": {
        "colab": {
          "base_uri": "https://localhost:8080/",
          "height": 206
        },
        "id": "ImrFbxg7yXJU",
        "outputId": "e2d11b47-1928-475a-fae5-e5d84791150b"
      },
      "execution_count": null,
      "outputs": [
        {
          "output_type": "execute_result",
          "data": {
            "text/plain": [
              "        location geo_region                             area\n",
              "31      Nugegoda      LK-11  {'id': 1506, 'name': 'Colombo'}\n",
              "1349    Kohuwala      LK-11  {'id': 1506, 'name': 'Colombo'}\n",
              "1701    Kohuwala      LK-11  {'id': 1506, 'name': 'Colombo'}\n",
              "1702    Kohuwala      LK-11  {'id': 1506, 'name': 'Colombo'}\n",
              "1917  Colombo 14      LK-11  {'id': 1506, 'name': 'Colombo'}"
            ],
            "text/html": [
              "\n",
              "  <div id=\"df-d0a7f921-8252-42cc-ab56-803db13ea2d1\" class=\"colab-df-container\">\n",
              "    <div>\n",
              "<style scoped>\n",
              "    .dataframe tbody tr th:only-of-type {\n",
              "        vertical-align: middle;\n",
              "    }\n",
              "\n",
              "    .dataframe tbody tr th {\n",
              "        vertical-align: top;\n",
              "    }\n",
              "\n",
              "    .dataframe thead th {\n",
              "        text-align: right;\n",
              "    }\n",
              "</style>\n",
              "<table border=\"1\" class=\"dataframe\">\n",
              "  <thead>\n",
              "    <tr style=\"text-align: right;\">\n",
              "      <th></th>\n",
              "      <th>location</th>\n",
              "      <th>geo_region</th>\n",
              "      <th>area</th>\n",
              "    </tr>\n",
              "  </thead>\n",
              "  <tbody>\n",
              "    <tr>\n",
              "      <th>31</th>\n",
              "      <td>Nugegoda</td>\n",
              "      <td>LK-11</td>\n",
              "      <td>{'id': 1506, 'name': 'Colombo'}</td>\n",
              "    </tr>\n",
              "    <tr>\n",
              "      <th>1349</th>\n",
              "      <td>Kohuwala</td>\n",
              "      <td>LK-11</td>\n",
              "      <td>{'id': 1506, 'name': 'Colombo'}</td>\n",
              "    </tr>\n",
              "    <tr>\n",
              "      <th>1701</th>\n",
              "      <td>Kohuwala</td>\n",
              "      <td>LK-11</td>\n",
              "      <td>{'id': 1506, 'name': 'Colombo'}</td>\n",
              "    </tr>\n",
              "    <tr>\n",
              "      <th>1702</th>\n",
              "      <td>Kohuwala</td>\n",
              "      <td>LK-11</td>\n",
              "      <td>{'id': 1506, 'name': 'Colombo'}</td>\n",
              "    </tr>\n",
              "    <tr>\n",
              "      <th>1917</th>\n",
              "      <td>Colombo 14</td>\n",
              "      <td>LK-11</td>\n",
              "      <td>{'id': 1506, 'name': 'Colombo'}</td>\n",
              "    </tr>\n",
              "  </tbody>\n",
              "</table>\n",
              "</div>\n",
              "    <div class=\"colab-df-buttons\">\n",
              "\n",
              "  <div class=\"colab-df-container\">\n",
              "    <button class=\"colab-df-convert\" onclick=\"convertToInteractive('df-d0a7f921-8252-42cc-ab56-803db13ea2d1')\"\n",
              "            title=\"Convert this dataframe to an interactive table.\"\n",
              "            style=\"display:none;\">\n",
              "\n",
              "  <svg xmlns=\"http://www.w3.org/2000/svg\" height=\"24px\" viewBox=\"0 -960 960 960\">\n",
              "    <path d=\"M120-120v-720h720v720H120Zm60-500h600v-160H180v160Zm220 220h160v-160H400v160Zm0 220h160v-160H400v160ZM180-400h160v-160H180v160Zm440 0h160v-160H620v160ZM180-180h160v-160H180v160Zm440 0h160v-160H620v160Z\"/>\n",
              "  </svg>\n",
              "    </button>\n",
              "\n",
              "  <style>\n",
              "    .colab-df-container {\n",
              "      display:flex;\n",
              "      gap: 12px;\n",
              "    }\n",
              "\n",
              "    .colab-df-convert {\n",
              "      background-color: #E8F0FE;\n",
              "      border: none;\n",
              "      border-radius: 50%;\n",
              "      cursor: pointer;\n",
              "      display: none;\n",
              "      fill: #1967D2;\n",
              "      height: 32px;\n",
              "      padding: 0 0 0 0;\n",
              "      width: 32px;\n",
              "    }\n",
              "\n",
              "    .colab-df-convert:hover {\n",
              "      background-color: #E2EBFA;\n",
              "      box-shadow: 0px 1px 2px rgba(60, 64, 67, 0.3), 0px 1px 3px 1px rgba(60, 64, 67, 0.15);\n",
              "      fill: #174EA6;\n",
              "    }\n",
              "\n",
              "    .colab-df-buttons div {\n",
              "      margin-bottom: 4px;\n",
              "    }\n",
              "\n",
              "    [theme=dark] .colab-df-convert {\n",
              "      background-color: #3B4455;\n",
              "      fill: #D2E3FC;\n",
              "    }\n",
              "\n",
              "    [theme=dark] .colab-df-convert:hover {\n",
              "      background-color: #434B5C;\n",
              "      box-shadow: 0px 1px 3px 1px rgba(0, 0, 0, 0.15);\n",
              "      filter: drop-shadow(0px 1px 2px rgba(0, 0, 0, 0.3));\n",
              "      fill: #FFFFFF;\n",
              "    }\n",
              "  </style>\n",
              "\n",
              "    <script>\n",
              "      const buttonEl =\n",
              "        document.querySelector('#df-d0a7f921-8252-42cc-ab56-803db13ea2d1 button.colab-df-convert');\n",
              "      buttonEl.style.display =\n",
              "        google.colab.kernel.accessAllowed ? 'block' : 'none';\n",
              "\n",
              "      async function convertToInteractive(key) {\n",
              "        const element = document.querySelector('#df-d0a7f921-8252-42cc-ab56-803db13ea2d1');\n",
              "        const dataTable =\n",
              "          await google.colab.kernel.invokeFunction('convertToInteractive',\n",
              "                                                    [key], {});\n",
              "        if (!dataTable) return;\n",
              "\n",
              "        const docLinkHtml = 'Like what you see? Visit the ' +\n",
              "          '<a target=\"_blank\" href=https://colab.research.google.com/notebooks/data_table.ipynb>data table notebook</a>'\n",
              "          + ' to learn more about interactive tables.';\n",
              "        element.innerHTML = '';\n",
              "        dataTable['output_type'] = 'display_data';\n",
              "        await google.colab.output.renderOutput(dataTable, element);\n",
              "        const docLink = document.createElement('div');\n",
              "        docLink.innerHTML = docLinkHtml;\n",
              "        element.appendChild(docLink);\n",
              "      }\n",
              "    </script>\n",
              "  </div>\n",
              "\n",
              "\n",
              "<div id=\"df-c79bfab3-f72b-4b1f-801d-bc3abf8c3c43\">\n",
              "  <button class=\"colab-df-quickchart\" onclick=\"quickchart('df-c79bfab3-f72b-4b1f-801d-bc3abf8c3c43')\"\n",
              "            title=\"Suggest charts\"\n",
              "            style=\"display:none;\">\n",
              "\n",
              "<svg xmlns=\"http://www.w3.org/2000/svg\" height=\"24px\"viewBox=\"0 0 24 24\"\n",
              "     width=\"24px\">\n",
              "    <g>\n",
              "        <path d=\"M19 3H5c-1.1 0-2 .9-2 2v14c0 1.1.9 2 2 2h14c1.1 0 2-.9 2-2V5c0-1.1-.9-2-2-2zM9 17H7v-7h2v7zm4 0h-2V7h2v10zm4 0h-2v-4h2v4z\"/>\n",
              "    </g>\n",
              "</svg>\n",
              "  </button>\n",
              "\n",
              "<style>\n",
              "  .colab-df-quickchart {\n",
              "      --bg-color: #E8F0FE;\n",
              "      --fill-color: #1967D2;\n",
              "      --hover-bg-color: #E2EBFA;\n",
              "      --hover-fill-color: #174EA6;\n",
              "      --disabled-fill-color: #AAA;\n",
              "      --disabled-bg-color: #DDD;\n",
              "  }\n",
              "\n",
              "  [theme=dark] .colab-df-quickchart {\n",
              "      --bg-color: #3B4455;\n",
              "      --fill-color: #D2E3FC;\n",
              "      --hover-bg-color: #434B5C;\n",
              "      --hover-fill-color: #FFFFFF;\n",
              "      --disabled-bg-color: #3B4455;\n",
              "      --disabled-fill-color: #666;\n",
              "  }\n",
              "\n",
              "  .colab-df-quickchart {\n",
              "    background-color: var(--bg-color);\n",
              "    border: none;\n",
              "    border-radius: 50%;\n",
              "    cursor: pointer;\n",
              "    display: none;\n",
              "    fill: var(--fill-color);\n",
              "    height: 32px;\n",
              "    padding: 0;\n",
              "    width: 32px;\n",
              "  }\n",
              "\n",
              "  .colab-df-quickchart:hover {\n",
              "    background-color: var(--hover-bg-color);\n",
              "    box-shadow: 0 1px 2px rgba(60, 64, 67, 0.3), 0 1px 3px 1px rgba(60, 64, 67, 0.15);\n",
              "    fill: var(--button-hover-fill-color);\n",
              "  }\n",
              "\n",
              "  .colab-df-quickchart-complete:disabled,\n",
              "  .colab-df-quickchart-complete:disabled:hover {\n",
              "    background-color: var(--disabled-bg-color);\n",
              "    fill: var(--disabled-fill-color);\n",
              "    box-shadow: none;\n",
              "  }\n",
              "\n",
              "  .colab-df-spinner {\n",
              "    border: 2px solid var(--fill-color);\n",
              "    border-color: transparent;\n",
              "    border-bottom-color: var(--fill-color);\n",
              "    animation:\n",
              "      spin 1s steps(1) infinite;\n",
              "  }\n",
              "\n",
              "  @keyframes spin {\n",
              "    0% {\n",
              "      border-color: transparent;\n",
              "      border-bottom-color: var(--fill-color);\n",
              "      border-left-color: var(--fill-color);\n",
              "    }\n",
              "    20% {\n",
              "      border-color: transparent;\n",
              "      border-left-color: var(--fill-color);\n",
              "      border-top-color: var(--fill-color);\n",
              "    }\n",
              "    30% {\n",
              "      border-color: transparent;\n",
              "      border-left-color: var(--fill-color);\n",
              "      border-top-color: var(--fill-color);\n",
              "      border-right-color: var(--fill-color);\n",
              "    }\n",
              "    40% {\n",
              "      border-color: transparent;\n",
              "      border-right-color: var(--fill-color);\n",
              "      border-top-color: var(--fill-color);\n",
              "    }\n",
              "    60% {\n",
              "      border-color: transparent;\n",
              "      border-right-color: var(--fill-color);\n",
              "    }\n",
              "    80% {\n",
              "      border-color: transparent;\n",
              "      border-right-color: var(--fill-color);\n",
              "      border-bottom-color: var(--fill-color);\n",
              "    }\n",
              "    90% {\n",
              "      border-color: transparent;\n",
              "      border-bottom-color: var(--fill-color);\n",
              "    }\n",
              "  }\n",
              "</style>\n",
              "\n",
              "  <script>\n",
              "    async function quickchart(key) {\n",
              "      const quickchartButtonEl =\n",
              "        document.querySelector('#' + key + ' button');\n",
              "      quickchartButtonEl.disabled = true;  // To prevent multiple clicks.\n",
              "      quickchartButtonEl.classList.add('colab-df-spinner');\n",
              "      try {\n",
              "        const charts = await google.colab.kernel.invokeFunction(\n",
              "            'suggestCharts', [key], {});\n",
              "      } catch (error) {\n",
              "        console.error('Error during call to suggestCharts:', error);\n",
              "      }\n",
              "      quickchartButtonEl.classList.remove('colab-df-spinner');\n",
              "      quickchartButtonEl.classList.add('colab-df-quickchart-complete');\n",
              "    }\n",
              "    (() => {\n",
              "      let quickchartButtonEl =\n",
              "        document.querySelector('#df-c79bfab3-f72b-4b1f-801d-bc3abf8c3c43 button');\n",
              "      quickchartButtonEl.style.display =\n",
              "        google.colab.kernel.accessAllowed ? 'block' : 'none';\n",
              "    })();\n",
              "  </script>\n",
              "</div>\n",
              "\n",
              "    </div>\n",
              "  </div>\n"
            ],
            "application/vnd.google.colaboratory.intrinsic+json": {
              "type": "dataframe",
              "variable_name": "df31"
            }
          },
          "metadata": {},
          "execution_count": 48
        }
      ]
    },
    {
      "cell_type": "markdown",
      "source": [
        "## **Geo-Region**\n",
        "\n",
        "1. Group the elements in 'geo_region' by counting their occurrences.\n",
        "2. Visualize the data."
      ],
      "metadata": {
        "id": "9uj6FgFhyf02"
      }
    },
    {
      "cell_type": "code",
      "source": [
        "# Group the elements in the geo_region by counting their occurrences\n",
        "df31.groupby('geo_region').size()"
      ],
      "metadata": {
        "colab": {
          "base_uri": "https://localhost:8080/"
        },
        "id": "JnmArICLyb2o",
        "outputId": "7d561290-ff0c-4c74-e6ab-e0d72f412e0c"
      },
      "execution_count": null,
      "outputs": [
        {
          "output_type": "execute_result",
          "data": {
            "text/plain": [
              "geo_region\n",
              "LK       20550\n",
              "LK-11    50139\n",
              "LK-12    27771\n",
              "LK-21    10179\n",
              "LK-22     1881\n",
              "LK-23      768\n",
              "LK-31     5591\n",
              "LK-33     2250\n",
              "LK-41     3929\n",
              "LK-42      368\n",
              "LK-43      236\n",
              "LK-44      772\n",
              "LK-51     2187\n",
              "LK-52     2697\n",
              "LK-53     1974\n",
              "LK-61    10327\n",
              "LK-62     4179\n",
              "LK-71     4880\n",
              "LK-72     1610\n",
              "LK-81     2350\n",
              "LK-92     3576\n",
              "dtype: int64"
            ]
          },
          "metadata": {},
          "execution_count": 49
        }
      ]
    },
    {
      "cell_type": "code",
      "source": [
        "# Create a bar chart of the grouped data\n",
        "df31.groupby('geo_region').size().sort_values(ascending=False).plot(kind='bar')\n",
        "\n",
        "# Add labels and title\n",
        "plt.xlabel('Geo Region')\n",
        "plt.ylabel('Number of Vehicles')\n",
        "plt.title('Number of Vehicles by Geo Region')\n",
        "\n",
        "# Rotate x-axis labels for readability\n",
        "plt.xticks(rotation=90)\n",
        "\n",
        "# Show the plot\n",
        "plt.show()"
      ],
      "metadata": {
        "colab": {
          "base_uri": "https://localhost:8080/",
          "height": 496
        },
        "id": "B-8fJWznyb06",
        "outputId": "fe7ad270-bbc9-4311-bfa6-8c967211d0b5"
      },
      "execution_count": null,
      "outputs": [
        {
          "output_type": "display_data",
          "data": {
            "text/plain": [
              "<Figure size 640x480 with 1 Axes>"
            ],
            "image/png": "[encoded data removed]"
          },
          "metadata": {}
        }
      ]
    },
    {
      "cell_type": "code",
      "source": [
        "# Insights:\n",
        "# 1. The graph shows the number of vehicles available in different geo-regions.\n",
        "# 2. The region with the highest number of vehicles is 'LK-11'.\n",
        "# 3. The regions with the lowest number of vehicles are 'LK-43'\n",
        "# 4. This information can be useful for businesses looking to target specific regions for vehicle sales or services.\n"
      ],
      "metadata": {
        "id": "cUYMq3KLybzI"
      },
      "execution_count": null,
      "outputs": []
    },
    {
      "cell_type": "markdown",
      "source": [
        "## **Location**\n",
        "\n",
        "1. Group the elements in 'LOCATION' by counting their occurrences.\n",
        "2. Visualize the data."
      ],
      "metadata": {
        "id": "NuYdv1EB02B-"
      }
    },
    {
      "cell_type": "code",
      "source": [
        "df31.groupby('location').size()"
      ],
      "metadata": {
        "colab": {
          "base_uri": "https://localhost:8080/"
        },
        "id": "56PWMQQ-ybu3",
        "outputId": "bf14c437-518f-40b1-b68f-a96dc349f390"
      },
      "execution_count": null,
      "outputs": [
        {
          "output_type": "execute_result",
          "data": {
            "text/plain": [
              "location\n",
              "Ahangama              177\n",
              "Akkarepattu           884\n",
              "Akurana               529\n",
              "Akuressa              550\n",
              "Alawwa                231\n",
              "Alutgama              411\n",
              "Ambalangoda           774\n",
              "Ambalantota           323\n",
              "Ampara City           880\n",
              "Ampitiya               99\n",
              "Anamaduwa             179\n",
              "Angoda                624\n",
              "Anuradhapura City    2631\n",
              "Athurugiriya          805\n",
              "Avissawella           542\n",
              "Baddegama             477\n",
              "Badulla City          819\n",
              "Balangoda             577\n",
              "Bandaragama          2753\n",
              "Bandarawela           472\n",
              "Batapola              138\n",
              "Battaramulla          976\n",
              "Batticaloa City      2187\n",
              "Beliatta              659\n",
              "Bentota               123\n",
              "Beruwala              274\n",
              "Bibile                243\n",
              "Bingiriya             188\n",
              "Boralesgamuwa        3297\n",
              "Buttala               173\n",
              "Chavakachcheri        331\n",
              "Chilaw               1073\n",
              "Colombo 1             111\n",
              "Colombo 10            681\n",
              "Colombo 11             76\n",
              "Colombo 12            220\n",
              "Colombo 13            277\n",
              "Colombo 14            452\n",
              "Colombo 15            576\n",
              "Colombo 2             346\n",
              "Colombo 3             899\n",
              "Colombo 4             786\n",
              "Colombo 5             642\n",
              "Colombo 6            1109\n",
              "Colombo 7             286\n",
              "Colombo 8            1195\n",
              "Colombo 9             340\n",
              "Dambulla              388\n",
              "Dankotuwa             326\n",
              "Dehiowita              59\n",
              "Dehiwala             2984\n",
              "Delgoda               991\n",
              "Deniyaya              264\n",
              "Deraniyagala           77\n",
              "Digana                526\n",
              "Dikwella              229\n",
              "Divulapitiya          540\n",
              "Diyatalawa             45\n",
              "Eheliyagoda           408\n",
              "Ella                   28\n",
              "Elpitiya              722\n",
              "Embilipitiya          862\n",
              "Eppawala              226\n",
              "Galagedara            177\n",
              "Galenbindunuwewa      124\n",
              "Galewela              189\n",
              "Galgamuwa             418\n",
              "Galigamuwa            153\n",
              "Galle City           2756\n",
              "Galnewa               112\n",
              "Gampaha City         5111\n",
              "Gampola              1212\n",
              "Gandara                14\n",
              "Ganemulla             357\n",
              "Gelioya               270\n",
              "Ginigathhena           50\n",
              "Giriulla              250\n",
              "Godagama              160\n",
              "Habarana               31\n",
              "Hakmana               382\n",
              "Hali Ela              101\n",
              "Hambantota City       310\n",
              "Hanwella              543\n",
              "Haputale               49\n",
              "Hatton                227\n",
              "Hettipola             219\n",
              "Hikkaduwa             230\n",
              "Hingurakgoda          284\n",
              "Homagama             2154\n",
              "Horana               1292\n",
              "Ibbagamuwa            584\n",
              "Ingiriya              132\n",
              "Ja-Ela               2705\n",
              "Jaffna City          3361\n",
              "Kadawatha            2269\n",
              "Kadugannawa           106\n",
              "Kaduruwela            269\n",
              "Kaduwela             1469\n",
              "Kalmunai              635\n",
              "Kalutara City        1666\n",
              "Kamburugamuwa          35\n",
              "Kamburupitiya         253\n",
              "Kandana               590\n",
              "Kandy City           4073\n",
              "Karapitiya            194\n",
              "Kataragama             43\n",
              "Katugastota          1281\n",
              "Katunayake           2756\n",
              "Kegalle City         1179\n",
              "Kekanadurra            82\n",
              "Kekirawa              568\n",
              "Kelaniya              918\n",
              "Kesbewa               356\n",
              "Kilinochchi City      368\n",
              "Kinniya               720\n",
              "Kiribathgoda         1211\n",
              "Kitulgala              30\n",
              "Kohuwala             4426\n",
              "Kolonnawa             479\n",
              "Kottawa              2618\n",
              "Kotte                 690\n",
              "Kuliyapitiya         1208\n",
              "Kundasale             177\n",
              "Kurunegala City      4220\n",
              "Kuruwita              186\n",
              "Madawala Bazaar        55\n",
              "Madulla                21\n",
              "Maharagama           2537\n",
              "Mahiyanganaya         354\n",
              "Malabe               2149\n",
              "Mannar City           236\n",
              "Marawila              475\n",
              "Matale City          1000\n",
              "Matara City          2796\n",
              "Matugama             1090\n",
              "Mawanella            1032\n",
              "Mawathagama           408\n",
              "Medawachchiya         393\n",
              "Medirigiriya          146\n",
              "Meegoda               184\n",
              "Menikhinna             79\n",
              "Mihintale             156\n",
              "Minuwangoda          1772\n",
              "Mirigama              617\n",
              "Monaragala City       852\n",
              "Moratuwa             1870\n",
              "Mount Lavinia         673\n",
              "Mullativu City        219\n",
              "Nallur                237\n",
              "Narammala             635\n",
              "Nattandiya            354\n",
              "Nawala                268\n",
              "Nawalapitiya          217\n",
              "Negombo              3653\n",
              "Nikaweratiya          422\n",
              "Nittambuwa           1262\n",
              "Nochchiyagama         193\n",
              "Nugegoda             3026\n",
              "Nuwara Eliya City     470\n",
              "Padukka               491\n",
              "Palapathwela           44\n",
              "Pallepola              57\n",
              "Panadura             1869\n",
              "Pannala               491\n",
              "Pannipitiya          1095\n",
              "Passara                93\n",
              "Pelmadulla            484\n",
              "Peradeniya            908\n",
              "Pilimatalawa          340\n",
              "Piliyandala          4700\n",
              "Polgahawela           286\n",
              "Polonnaruwa City      911\n",
              "Puttalam City        1054\n",
              "Ragama                727\n",
              "Rajagiriya           1192\n",
              "Rambukkana            263\n",
              "Ratmalana             596\n",
              "Ratnapura City       1558\n",
              "Rattota                48\n",
              "Ruwanwella            303\n",
              "Sainthamaruthu        298\n",
              "Seeduwa               253\n",
              "Sigiriya               12\n",
              "Talawa                156\n",
              "Talawatugoda          415\n",
              "Tambuttegama          290\n",
              "Tangalla              600\n",
              "Tissamaharama         358\n",
              "Trincomalee City     1254\n",
              "Ukuwela                95\n",
              "Vavuniya City         772\n",
              "Veyangoda             489\n",
              "Wadduwa               266\n",
              "Warakapola            409\n",
              "Wariyapola            767\n",
              "Wattala              1550\n",
              "Wattegama             130\n",
              "Weligama              347\n",
              "Welimada              389\n",
              "Wellampitiya          824\n",
              "Wellawaya             240\n",
              "Wennappuwa            718\n",
              "Yatawatta              48\n",
              "Yatiyantota            71\n",
              "dtype: int64"
            ]
          },
          "metadata": {},
          "execution_count": 52
        }
      ]
    },
    {
      "cell_type": "code",
      "source": [
        "sorted_locations = df31['location'].value_counts().sort_values(ascending=False)\n",
        "filtered_locations = sorted_locations[sorted_locations > 1000]\n",
        "print(filtered_locations)\n"
      ],
      "metadata": {
        "colab": {
          "base_uri": "https://localhost:8080/"
        },
        "id": "SU9JxuiT1KNV",
        "outputId": "bdccb93f-e55a-46fb-a1c2-ce275eaf733d"
      },
      "execution_count": null,
      "outputs": [
        {
          "output_type": "stream",
          "name": "stdout",
          "text": [
            "location\n",
            "Gampaha City         5111\n",
            "Piliyandala          4700\n",
            "Kohuwala             4426\n",
            "Kurunegala City      4220\n",
            "Kandy City           4073\n",
            "Negombo              3653\n",
            "Jaffna City          3361\n",
            "Boralesgamuwa        3297\n",
            "Nugegoda             3026\n",
            "Dehiwala             2984\n",
            "Matara City          2796\n",
            "Katunayake           2756\n",
            "Galle City           2756\n",
            "Bandaragama          2753\n",
            "Ja-Ela               2705\n",
            "Anuradhapura City    2631\n",
            "Kottawa              2618\n",
            "Maharagama           2537\n",
            "Kadawatha            2269\n",
            "Batticaloa City      2187\n",
            "Homagama             2154\n",
            "Malabe               2149\n",
            "Moratuwa             1870\n",
            "Panadura             1869\n",
            "Minuwangoda          1772\n",
            "Kalutara City        1666\n",
            "Ratnapura City       1558\n",
            "Wattala              1550\n",
            "Kaduwela             1469\n",
            "Horana               1292\n",
            "Katugastota          1281\n",
            "Nittambuwa           1262\n",
            "Trincomalee City     1254\n",
            "Gampola              1212\n",
            "Kiribathgoda         1211\n",
            "Kuliyapitiya         1208\n",
            "Colombo 8            1195\n",
            "Rajagiriya           1192\n",
            "Kegalle City         1179\n",
            "Colombo 6            1109\n",
            "Pannipitiya          1095\n",
            "Matugama             1090\n",
            "Chilaw               1073\n",
            "Puttalam City        1054\n",
            "Mawanella            1032\n",
            "Name: count, dtype: int64\n"
          ]
        }
      ]
    },
    {
      "cell_type": "code",
      "source": [
        "# prompt: plot bar chart for filtered_locations\n",
        "\n",
        "# Prepare data for the bar chart\n",
        "locations = filtered_locations.index.to_list()\n",
        "counts = filtered_locations.values.tolist()\n",
        "\n",
        "# Create the bar chart\n",
        "plt.bar(locations, counts)\n",
        "\n",
        "# Customize the chart\n",
        "plt.xlabel(\"Location\")\n",
        "plt.ylabel(\"Number of Vehicles\")\n",
        "plt.title(\"Number of Vehicles by Location (Filtered)\")\n",
        "plt.xticks(rotation=90)\n",
        "plt.tight_layout()\n",
        "\n",
        "# Show the chart\n",
        "plt.show()\n"
      ],
      "metadata": {
        "colab": {
          "base_uri": "https://localhost:8080/",
          "height": 487
        },
        "id": "uupbgTg42p39",
        "outputId": "bdb6ad32-5812-4af6-b32f-d83de7738ab8"
      },
      "execution_count": null,
      "outputs": [
        {
          "output_type": "display_data",
          "data": {
            "text/plain": [
              "<Figure size 640x480 with 1 Axes>"
            ],
            "image/png": "[encoded data removed]"
          },
          "metadata": {}
        }
      ]
    },
    {
      "cell_type": "code",
      "source": [
        "## Insights:\n",
        "\n",
        "# 1. The graph shows the number of vehicles available in different locations.\n",
        "# 2. The location with the highest number of vehicles is 'Gampala city'.\n",
        "# 3. The location with the lowest number of vehicles is 'Mawanella'.\n",
        "# 4. This information can be useful for targeting specific locations for vehicle sales or services.\n",
        "# 5. The data is filtered to only show locations with more than 1,000 vehicles.\n",
        "# 6. The most popular location for vehicles is Gampala city.\n",
        "# 7. There is a significant drop-off in the number of vehicles available in other locations."
      ],
      "metadata": {
        "id": "7B6CZr3vybrf"
      },
      "execution_count": null,
      "outputs": []
    },
    {
      "cell_type": "markdown",
      "source": [
        "# **AREA**\n",
        "1. Separate out the id and area name"
      ],
      "metadata": {
        "id": "QmD72MUQEltn"
      }
    },
    {
      "cell_type": "code",
      "source": [
        "dict_df=df31[\"area\"].apply(pd.Series)"
      ],
      "metadata": {
        "id": "rj22HEMQybn4"
      },
      "execution_count": null,
      "outputs": []
    },
    {
      "cell_type": "code",
      "source": [
        "df31['area'].head()"
      ],
      "metadata": {
        "colab": {
          "base_uri": "https://localhost:8080/"
        },
        "id": "fE-awsdKBeMC",
        "outputId": "e9b425b0-1fe7-42cf-d2ee-c992b98ab3d1"
      },
      "execution_count": null,
      "outputs": [
        {
          "output_type": "execute_result",
          "data": {
            "text/plain": [
              "31      {'id': 1506, 'name': 'Colombo'}\n",
              "1349    {'id': 1506, 'name': 'Colombo'}\n",
              "1701    {'id': 1506, 'name': 'Colombo'}\n",
              "1702    {'id': 1506, 'name': 'Colombo'}\n",
              "1917    {'id': 1506, 'name': 'Colombo'}\n",
              "Name: area, dtype: object"
            ]
          },
          "metadata": {},
          "execution_count": 62
        }
      ]
    },
    {
      "cell_type": "code",
      "source": [
        "dict_converted = ast.literal_eval(dict_df.iloc[2][0])\n",
        "print(dict_converted)"
      ],
      "metadata": {
        "colab": {
          "base_uri": "https://localhost:8080/"
        },
        "id": "QQY8ZSoJBeOb",
        "outputId": "6a782fd0-cef4-4de3-c89c-81097dfb4579"
      },
      "execution_count": null,
      "outputs": [
        {
          "output_type": "stream",
          "name": "stdout",
          "text": [
            "{'id': 1506, 'name': 'Colombo'}\n"
          ]
        }
      ]
    },
    {
      "cell_type": "code",
      "source": [
        "Id = []\n",
        "Name = []\n",
        "\n",
        "for i in range(dict_df.shape[0]):\n",
        "    dict_converted = ast.literal_eval(dict_df.iloc[i][0])\n",
        "    if 'id' not in dict_converted:\n",
        "        Id.append('NaN')\n",
        "    else:\n",
        "        Id.append(dict_converted['id'])\n",
        "\n",
        "    if 'name' in dict_converted:\n",
        "        Name.append(dict_converted['name'])\n",
        "    else:\n",
        "        Name.append('NaN')"
      ],
      "metadata": {
        "id": "97maThNnBeQX"
      },
      "execution_count": null,
      "outputs": []
    },
    {
      "cell_type": "code",
      "source": [
        "df31['Id'] = Id\n",
        "df31['Name'] = Name"
      ],
      "metadata": {
        "id": "rXNA4NU9BeSk"
      },
      "execution_count": null,
      "outputs": []
    },
    {
      "cell_type": "code",
      "source": [
        "df31.head()"
      ],
      "metadata": {
        "colab": {
          "base_uri": "https://localhost:8080/",
          "height": 206
        },
        "id": "Lh7NHqnSBeVV",
        "outputId": "0719cc87-6462-4015-9c44-bc301c37875c"
      },
      "execution_count": null,
      "outputs": [
        {
          "output_type": "execute_result",
          "data": {
            "text/plain": [
              "        location geo_region                             area    Id     Name\n",
              "31      Nugegoda      LK-11  {'id': 1506, 'name': 'Colombo'}  1506  Colombo\n",
              "1349    Kohuwala      LK-11  {'id': 1506, 'name': 'Colombo'}  1506  Colombo\n",
              "1701    Kohuwala      LK-11  {'id': 1506, 'name': 'Colombo'}  1506  Colombo\n",
              "1702    Kohuwala      LK-11  {'id': 1506, 'name': 'Colombo'}  1506  Colombo\n",
              "1917  Colombo 14      LK-11  {'id': 1506, 'name': 'Colombo'}  1506  Colombo"
            ],
            "text/html": [
              "\n",
              "  <div id=\"df-6d8ecf56-9518-4d97-9fb9-26c7686af201\" class=\"colab-df-container\">\n",
              "    <div>\n",
              "<style scoped>\n",
              "    .dataframe tbody tr th:only-of-type {\n",
              "        vertical-align: middle;\n",
              "    }\n",
              "\n",
              "    .dataframe tbody tr th {\n",
              "        vertical-align: top;\n",
              "    }\n",
              "\n",
              "    .dataframe thead th {\n",
              "        text-align: right;\n",
              "    }\n",
              "</style>\n",
              "<table border=\"1\" class=\"dataframe\">\n",
              "  <thead>\n",
              "    <tr style=\"text-align: right;\">\n",
              "      <th></th>\n",
              "      <th>location</th>\n",
              "      <th>geo_region</th>\n",
              "      <th>area</th>\n",
              "      <th>Id</th>\n",
              "      <th>Name</th>\n",
              "    </tr>\n",
              "  </thead>\n",
              "  <tbody>\n",
              "    <tr>\n",
              "      <th>31</th>\n",
              "      <td>Nugegoda</td>\n",
              "      <td>LK-11</td>\n",
              "      <td>{'id': 1506, 'name': 'Colombo'}</td>\n",
              "      <td>1506</td>\n",
              "      <td>Colombo</td>\n",
              "    </tr>\n",
              "    <tr>\n",
              "      <th>1349</th>\n",
              "      <td>Kohuwala</td>\n",
              "      <td>LK-11</td>\n",
              "      <td>{'id': 1506, 'name': 'Colombo'}</td>\n",
              "      <td>1506</td>\n",
              "      <td>Colombo</td>\n",
              "    </tr>\n",
              "    <tr>\n",
              "      <th>1701</th>\n",
              "      <td>Kohuwala</td>\n",
              "      <td>LK-11</td>\n",
              "      <td>{'id': 1506, 'name': 'Colombo'}</td>\n",
              "      <td>1506</td>\n",
              "      <td>Colombo</td>\n",
              "    </tr>\n",
              "    <tr>\n",
              "      <th>1702</th>\n",
              "      <td>Kohuwala</td>\n",
              "      <td>LK-11</td>\n",
              "      <td>{'id': 1506, 'name': 'Colombo'}</td>\n",
              "      <td>1506</td>\n",
              "      <td>Colombo</td>\n",
              "    </tr>\n",
              "    <tr>\n",
              "      <th>1917</th>\n",
              "      <td>Colombo 14</td>\n",
              "      <td>LK-11</td>\n",
              "      <td>{'id': 1506, 'name': 'Colombo'}</td>\n",
              "      <td>1506</td>\n",
              "      <td>Colombo</td>\n",
              "    </tr>\n",
              "  </tbody>\n",
              "</table>\n",
              "</div>\n",
              "    <div class=\"colab-df-buttons\">\n",
              "\n",
              "  <div class=\"colab-df-container\">\n",
              "    <button class=\"colab-df-convert\" onclick=\"convertToInteractive('df-6d8ecf56-9518-4d97-9fb9-26c7686af201')\"\n",
              "            title=\"Convert this dataframe to an interactive table.\"\n",
              "            style=\"display:none;\">\n",
              "\n",
              "  <svg xmlns=\"http://www.w3.org/2000/svg\" height=\"24px\" viewBox=\"0 -960 960 960\">\n",
              "    <path d=\"M120-120v-720h720v720H120Zm60-500h600v-160H180v160Zm220 220h160v-160H400v160Zm0 220h160v-160H400v160ZM180-400h160v-160H180v160Zm440 0h160v-160H620v160ZM180-180h160v-160H180v160Zm440 0h160v-160H620v160Z\"/>\n",
              "  </svg>\n",
              "    </button>\n",
              "\n",
              "  <style>\n",
              "    .colab-df-container {\n",
              "      display:flex;\n",
              "      gap: 12px;\n",
              "    }\n",
              "\n",
              "    .colab-df-convert {\n",
              "      background-color: #E8F0FE;\n",
              "      border: none;\n",
              "      border-radius: 50%;\n",
              "      cursor: pointer;\n",
              "      display: none;\n",
              "      fill: #1967D2;\n",
              "      height: 32px;\n",
              "      padding: 0 0 0 0;\n",
              "      width: 32px;\n",
              "    }\n",
              "\n",
              "    .colab-df-convert:hover {\n",
              "      background-color: #E2EBFA;\n",
              "      box-shadow: 0px 1px 2px rgba(60, 64, 67, 0.3), 0px 1px 3px 1px rgba(60, 64, 67, 0.15);\n",
              "      fill: #174EA6;\n",
              "    }\n",
              "\n",
              "    .colab-df-buttons div {\n",
              "      margin-bottom: 4px;\n",
              "    }\n",
              "\n",
              "    [theme=dark] .colab-df-convert {\n",
              "      background-color: #3B4455;\n",
              "      fill: #D2E3FC;\n",
              "    }\n",
              "\n",
              "    [theme=dark] .colab-df-convert:hover {\n",
              "      background-color: #434B5C;\n",
              "      box-shadow: 0px 1px 3px 1px rgba(0, 0, 0, 0.15);\n",
              "      filter: drop-shadow(0px 1px 2px rgba(0, 0, 0, 0.3));\n",
              "      fill: #FFFFFF;\n",
              "    }\n",
              "  </style>\n",
              "\n",
              "    <script>\n",
              "      const buttonEl =\n",
              "        document.querySelector('#df-6d8ecf56-9518-4d97-9fb9-26c7686af201 button.colab-df-convert');\n",
              "      buttonEl.style.display =\n",
              "        google.colab.kernel.accessAllowed ? 'block' : 'none';\n",
              "\n",
              "      async function convertToInteractive(key) {\n",
              "        const element = document.querySelector('#df-6d8ecf56-9518-4d97-9fb9-26c7686af201');\n",
              "        const dataTable =\n",
              "          await google.colab.kernel.invokeFunction('convertToInteractive',\n",
              "                                                    [key], {});\n",
              "        if (!dataTable) return;\n",
              "\n",
              "        const docLinkHtml = 'Like what you see? Visit the ' +\n",
              "          '<a target=\"_blank\" href=https://colab.research.google.com/notebooks/data_table.ipynb>data table notebook</a>'\n",
              "          + ' to learn more about interactive tables.';\n",
              "        element.innerHTML = '';\n",
              "        dataTable['output_type'] = 'display_data';\n",
              "        await google.colab.output.renderOutput(dataTable, element);\n",
              "        const docLink = document.createElement('div');\n",
              "        docLink.innerHTML = docLinkHtml;\n",
              "        element.appendChild(docLink);\n",
              "      }\n",
              "    </script>\n",
              "  </div>\n",
              "\n",
              "\n",
              "<div id=\"df-5d5bf2f1-6f11-46ec-8472-e18e387fcb6c\">\n",
              "  <button class=\"colab-df-quickchart\" onclick=\"quickchart('df-5d5bf2f1-6f11-46ec-8472-e18e387fcb6c')\"\n",
              "            title=\"Suggest charts\"\n",
              "            style=\"display:none;\">\n",
              "\n",
              "<svg xmlns=\"http://www.w3.org/2000/svg\" height=\"24px\"viewBox=\"0 0 24 24\"\n",
              "     width=\"24px\">\n",
              "    <g>\n",
              "        <path d=\"M19 3H5c-1.1 0-2 .9-2 2v14c0 1.1.9 2 2 2h14c1.1 0 2-.9 2-2V5c0-1.1-.9-2-2-2zM9 17H7v-7h2v7zm4 0h-2V7h2v10zm4 0h-2v-4h2v4z\"/>\n",
              "    </g>\n",
              "</svg>\n",
              "  </button>\n",
              "\n",
              "<style>\n",
              "  .colab-df-quickchart {\n",
              "      --bg-color: #E8F0FE;\n",
              "      --fill-color: #1967D2;\n",
              "      --hover-bg-color: #E2EBFA;\n",
              "      --hover-fill-color: #174EA6;\n",
              "      --disabled-fill-color: #AAA;\n",
              "      --disabled-bg-color: #DDD;\n",
              "  }\n",
              "\n",
              "  [theme=dark] .colab-df-quickchart {\n",
              "      --bg-color: #3B4455;\n",
              "      --fill-color: #D2E3FC;\n",
              "      --hover-bg-color: #434B5C;\n",
              "      --hover-fill-color: #FFFFFF;\n",
              "      --disabled-bg-color: #3B4455;\n",
              "      --disabled-fill-color: #666;\n",
              "  }\n",
              "\n",
              "  .colab-df-quickchart {\n",
              "    background-color: var(--bg-color);\n",
              "    border: none;\n",
              "    border-radius: 50%;\n",
              "    cursor: pointer;\n",
              "    display: none;\n",
              "    fill: var(--fill-color);\n",
              "    height: 32px;\n",
              "    padding: 0;\n",
              "    width: 32px;\n",
              "  }\n",
              "\n",
              "  .colab-df-quickchart:hover {\n",
              "    background-color: var(--hover-bg-color);\n",
              "    box-shadow: 0 1px 2px rgba(60, 64, 67, 0.3), 0 1px 3px 1px rgba(60, 64, 67, 0.15);\n",
              "    fill: var(--button-hover-fill-color);\n",
              "  }\n",
              "\n",
              "  .colab-df-quickchart-complete:disabled,\n",
              "  .colab-df-quickchart-complete:disabled:hover {\n",
              "    background-color: var(--disabled-bg-color);\n",
              "    fill: var(--disabled-fill-color);\n",
              "    box-shadow: none;\n",
              "  }\n",
              "\n",
              "  .colab-df-spinner {\n",
              "    border: 2px solid var(--fill-color);\n",
              "    border-color: transparent;\n",
              "    border-bottom-color: var(--fill-color);\n",
              "    animation:\n",
              "      spin 1s steps(1) infinite;\n",
              "  }\n",
              "\n",
              "  @keyframes spin {\n",
              "    0% {\n",
              "      border-color: transparent;\n",
              "      border-bottom-color: var(--fill-color);\n",
              "      border-left-color: var(--fill-color);\n",
              "    }\n",
              "    20% {\n",
              "      border-color: transparent;\n",
              "      border-left-color: var(--fill-color);\n",
              "      border-top-color: var(--fill-color);\n",
              "    }\n",
              "    30% {\n",
              "      border-color: transparent;\n",
              "      border-left-color: var(--fill-color);\n",
              "      border-top-color: var(--fill-color);\n",
              "      border-right-color: var(--fill-color);\n",
              "    }\n",
              "    40% {\n",
              "      border-color: transparent;\n",
              "      border-right-color: var(--fill-color);\n",
              "      border-top-color: var(--fill-color);\n",
              "    }\n",
              "    60% {\n",
              "      border-color: transparent;\n",
              "      border-right-color: var(--fill-color);\n",
              "    }\n",
              "    80% {\n",
              "      border-color: transparent;\n",
              "      border-right-color: var(--fill-color);\n",
              "      border-bottom-color: var(--fill-color);\n",
              "    }\n",
              "    90% {\n",
              "      border-color: transparent;\n",
              "      border-bottom-color: var(--fill-color);\n",
              "    }\n",
              "  }\n",
              "</style>\n",
              "\n",
              "  <script>\n",
              "    async function quickchart(key) {\n",
              "      const quickchartButtonEl =\n",
              "        document.querySelector('#' + key + ' button');\n",
              "      quickchartButtonEl.disabled = true;  // To prevent multiple clicks.\n",
              "      quickchartButtonEl.classList.add('colab-df-spinner');\n",
              "      try {\n",
              "        const charts = await google.colab.kernel.invokeFunction(\n",
              "            'suggestCharts', [key], {});\n",
              "      } catch (error) {\n",
              "        console.error('Error during call to suggestCharts:', error);\n",
              "      }\n",
              "      quickchartButtonEl.classList.remove('colab-df-spinner');\n",
              "      quickchartButtonEl.classList.add('colab-df-quickchart-complete');\n",
              "    }\n",
              "    (() => {\n",
              "      let quickchartButtonEl =\n",
              "        document.querySelector('#df-5d5bf2f1-6f11-46ec-8472-e18e387fcb6c button');\n",
              "      quickchartButtonEl.style.display =\n",
              "        google.colab.kernel.accessAllowed ? 'block' : 'none';\n",
              "    })();\n",
              "  </script>\n",
              "</div>\n",
              "\n",
              "    </div>\n",
              "  </div>\n"
            ],
            "application/vnd.google.colaboratory.intrinsic+json": {
              "type": "dataframe",
              "variable_name": "df31"
            }
          },
          "metadata": {},
          "execution_count": 66
        }
      ]
    },
    {
      "cell_type": "code",
      "source": [
        "df31.groupby('Name').size()"
      ],
      "metadata": {
        "colab": {
          "base_uri": "https://localhost:8080/"
        },
        "id": "Tn1ggmQuBeXI",
        "outputId": "ec291f24-a78a-4121-aa4d-f8b6235d84ef"
      },
      "execution_count": null,
      "outputs": [
        {
          "output_type": "execute_result",
          "data": {
            "text/plain": [
              "Name\n",
              "Ampara           2697\n",
              "Anuradhapura     4880\n",
              "Badulla          2350\n",
              "Batticaloa       2187\n",
              "Colombo         50139\n",
              "Galle            5591\n",
              "Gampaha         27771\n",
              "Hambantota       2250\n",
              "Jaffna           3929\n",
              "Kalutara         9753\n",
              "Kandy           10179\n",
              "Kegalle          3576\n",
              "Kilinochchi       368\n",
              "Kurunegala      10327\n",
              "Mannar            236\n",
              "Matale           1881\n",
              "Matara           4952\n",
              "Monaragala       1551\n",
              "Mullativu         219\n",
              "Nuwara Eliya      768\n",
              "Polonnaruwa      1610\n",
              "Puttalam         4179\n",
              "Ratnapura        4075\n",
              "Trincomalee      1974\n",
              "Vavuniya          772\n",
              "dtype: int64"
            ]
          },
          "metadata": {},
          "execution_count": 67
        }
      ]
    },
    {
      "cell_type": "code",
      "source": [
        "# Create a bar chart of the grouped data\n",
        "df31.groupby('Name').size().sort_values(ascending=False).plot(kind='bar')\n",
        "\n",
        "# Add labels and title\n",
        "plt.xlabel('Name')\n",
        "plt.ylabel('Number of Occurences')\n",
        "plt.title('Number of Occurences based on Name')\n",
        "\n",
        "# Rotate x-axis labels for readability\n",
        "plt.xticks(rotation=90)\n",
        "\n",
        "# Show the plot\n",
        "plt.show()"
      ],
      "metadata": {
        "colab": {
          "base_uri": "https://localhost:8080/",
          "height": 557
        },
        "id": "WdWIA4u6BeZv",
        "outputId": "a09a3f08-5adc-48a8-885c-8ce8b4a5a9a5"
      },
      "execution_count": null,
      "outputs": [
        {
          "output_type": "display_data",
          "data": {
            "text/plain": [
              "<Figure size 640x480 with 1 Axes>"
            ],
            "image/png": "[encoded data removed]"
          },
          "metadata": {}
        }
      ]
    },
    {
      "cell_type": "code",
      "source": [
        "## Insights:\n",
        "\n",
        "# 1. The graph shows the number of occurrences of different area names.\n",
        "# 2. The area with the highest number of occurrences is 'Colombo'.\n",
        "# 3. The area with the lowest number of occurrences is 'Millativu'.\n",
        "# 4. This information can be useful for targeting specific areas for vehicle sales or services.\n",
        "# 5. The most popular areas for vehicles are in the Colombo district."
      ],
      "metadata": {
        "id": "ErxiZ-BYBecM"
      },
      "execution_count": null,
      "outputs": []
    },
    {
      "cell_type": "markdown",
      "source": [
        "# **POSTED DATE AND DEACTIVATED DATE**"
      ],
      "metadata": {
        "id": "s6uzqJRWE7ve"
      }
    },
    {
      "cell_type": "code",
      "source": [
        "df31= df31.join(df[['posted_date', 'deactivation_date']])"
      ],
      "metadata": {
        "id": "7EHBeH89DX0D"
      },
      "execution_count": null,
      "outputs": []
    },
    {
      "cell_type": "code",
      "source": [
        "df31['posted_date'] = pd.to_datetime(df31['posted_date'])\n",
        "df31['deactivation_date'] = pd.to_datetime(df31['deactivation_date'])\n",
        "\n",
        "\n",
        "# Extract temporal features\n",
        "df31['year'] = df31['posted_date'].dt.year\n",
        "df31['month'] = df31['posted_date'].dt.month\n",
        "df31['quarter'] = df31['posted_date'].dt.quarter\n",
        "\n",
        "# Clean and prepare data\n",
        "df31['geo_region'] = df31['geo_region'].str.strip()\n",
        "\n",
        "# Aggregate data by month and year to count the number of advertisements\n",
        "monthly_ads = df31.groupby(['year', 'month']).size().reset_index(name='ad_count')\n",
        "\n",
        "# Create a date column for easier plotting\n",
        "monthly_ads['date'] = pd.to_datetime(monthly_ads[['year', 'month']].assign(day=1))\n",
        "\n",
        "# Sort by date\n",
        "monthly_ads = monthly_ads.sort_values('date')\n",
        "\n",
        "# Set the plot size\n",
        "plt.figure(figsize=(10, 8))\n",
        "\n",
        "# Create a line plot for monthly trends\n",
        "sns.lineplot(data=monthly_ads, x='date', y='ad_count', marker='o')\n",
        "\n",
        "# Add labels and title\n",
        "plt.xlabel('Date')\n",
        "plt.ylabel('Number of Advertisements')\n",
        "plt.title('Monthly Trends in Number of Advertisements')\n",
        "\n",
        "# Show plot\n",
        "plt.tight_layout()\n",
        "plt.show()\n"
      ],
      "metadata": {
        "colab": {
          "base_uri": "https://localhost:8080/",
          "height": 807
        },
        "id": "t7aJtfmuDXxL",
        "outputId": "5893b5d3-73cc-4b65-fe78-7f32d8f8c327"
      },
      "execution_count": null,
      "outputs": [
        {
          "output_type": "display_data",
          "data": {
            "text/plain": [
              "<Figure size 1000x800 with 1 Axes>"
            ],
            "image/png": "[encoded data removed]"
          },
          "metadata": {}
        }
      ]
    },
    {
      "cell_type": "code",
      "source": [
        "# Supply:\n",
        "\n",
        "#     The supply of advertisements has been increasing from September 2022 to November 2022, indicating an increase in the availability of advertisements in the market.\n",
        "#     The peak in November 2022 suggests that the supply of advertisements was at its highest during this period.\n",
        "#     After November 2022, the supply of advertisements has been decreasing, indicating a reduction in the availability of advertisements in the market.\n",
        "\n",
        "# Demand:\n",
        "\n",
        "#     The decreasing trend in the number of advertisements from November 2022 to April 2023 suggests that the demand for advertisements may be decreasing.\n",
        "#     The decrease in supply from November 2022 to April 2023 could be a response to the decreasing demand, as advertisers may be reducing their advertising budgets or shifting their focus to other marketing channels.\n",
        "#     The fact that the supply of advertisements has not dropped to zero suggests that there is still some demand for advertisements, but it may be decreasing.\n",
        "\n",
        "# Supply-Demand Balance:\n",
        "\n",
        "#     From September 2022 to November 2022, the supply of advertisements was increasing, which may have led to a surplus of advertisements in the market. This could have put downward pressure on prices.\n",
        "#     After November 2022, the supply of advertisements has been decreasing, which may have led to a better balance between supply and demand. However, the decreasing trend in supply suggests that the market may be shifting towards a state of undersupply, which could lead to upward pressure on prices.\n",
        "\n",
        "# Overall, the graph suggests that the market for advertisements may be experiencing a shift from a state of surplus to a state of undersupply, which could have implications for prices and the overall advertising landscape."
      ],
      "metadata": {
        "id": "pT7U9qlNDXrU"
      },
      "execution_count": null,
      "outputs": []
    }
  ]
}